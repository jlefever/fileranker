{
 "cells": [
  {
   "cell_type": "code",
   "execution_count": null,
   "metadata": {},
   "outputs": [],
   "source": [
    "import sqlite3\n",
    "from pathlib import Path\n",
    "\n",
    "import pandas as pd"
   ]
  },
  {
   "cell_type": "code",
   "execution_count": null,
   "metadata": {},
   "outputs": [],
   "source": [
    "DB_FILE = \"../db_prod.sqlite3\"\n",
    "\n",
    "PROJECT_NAME_MAP = {\n",
    "    \"depends\": \"_data/dbs/multilang-depends/depends.db\",\n",
    "    \"survey1\": \"_data/student_dbs/Team1_Final.db\",\n",
    "    \"survey2\": \"_data/student_dbs/Team2_Final.db\",\n",
    "    \"survey3\": \"_data/student_dbs/Team3_Final.db\",\n",
    "    \"survey5\": \"_data/student_dbs/Team5_Final.db\",\n",
    "    \"survey6\": \"_data/student_dbs/Team6_Final.db\",\n",
    "}\n",
    "\n",
    "SEQUENCE_SQL = \"\"\"\n",
    "    SELECT\n",
    "        S.name AS sequence,\n",
    "        I.position,\n",
    "        PA.name AS project_a,\n",
    "        PB.name AS project_b,\n",
    "        FA.filename AS filename_a,\n",
    "        FB.filename AS filename_b,\n",
    "        FA.content AS content_a,\n",
    "        FB.content AS content_b\n",
    "    FROM fileranker_sequenceitem I\n",
    "    JOIN fileranker_sequence S ON S.id = I.sequence_id\n",
    "    JOIN fileranker_file FA ON FA.id = I.file_a_id\n",
    "    JOIN fileranker_file FB ON FB.id = I.file_b_id\n",
    "    JOIN fileranker_project PA ON PA.id = FA.project_id\n",
    "    JOIN fileranker_project PB ON PB.id = FB.project_id\n",
    "    ORDER BY S.name, I.position\n",
    "\"\"\"\n",
    "\n",
    "RESPONSE_SQL = \"\"\"\n",
    "    SELECT\n",
    "        S.name AS sequence,\n",
    "        I.position,\n",
    "        U.username,\n",
    "        R.created_at AS responded_on,\n",
    "        R.value\n",
    "    FROM fileranker_response R\n",
    "    JOIN auth_user U ON U.id = R.user_id\n",
    "    JOIN fileranker_sequenceitem I ON I.id = R.item_id\n",
    "    JOIN fileranker_sequence S ON S.id = I.sequence_id\n",
    "    ORDER BY S.name, I.position, U.id\n",
    "\"\"\"\n",
    "\n",
    "\n",
    "def rename_project(name: str) -> str:\n",
    "    if name in PROJECT_NAME_MAP:\n",
    "        return PROJECT_NAME_MAP[name]\n",
    "    return name\n",
    "\n",
    "\n",
    "def fetch_seqs_df() -> pd.DataFrame:\n",
    "    with sqlite3.connect(DB_FILE) as con:\n",
    "        return pd.read_sql(SEQUENCE_SQL, con)"
   ]
  },
  {
   "cell_type": "code",
   "execution_count": null,
   "metadata": {},
   "outputs": [],
   "source": [
    "with sqlite3.connect(DB_FILE) as con:\n",
    "    seq_df = pd.read_sql(SEQUENCE_SQL, con)\n",
    "    res_df = pd.read_sql(RESPONSE_SQL, con)"
   ]
  },
  {
   "cell_type": "code",
   "execution_count": null,
   "metadata": {},
   "outputs": [],
   "source": [
    "seq_df[\"project_a\"] = [rename_project(p) for p in seq_df[\"project_a\"]]\n",
    "seq_df[\"project_b\"] = [rename_project(p) for p in seq_df[\"project_b\"]]\n",
    "seq_df"
   ]
  },
  {
   "cell_type": "code",
   "execution_count": null,
   "metadata": {},
   "outputs": [],
   "source": [
    "seq_df = seq_df[seq_df[\"position\"] < 1200]\n",
    "seq_df"
   ]
  },
  {
   "cell_type": "code",
   "execution_count": null,
   "metadata": {},
   "outputs": [],
   "source": [
    "seq_df.to_csv(\"../artifacts/my_sequences.csv\", index=False)\n",
    "res_df.to_csv(\"../artifacts/my_responses.csv\", index=False)"
   ]
  },
  {
   "cell_type": "code",
   "execution_count": null,
   "metadata": {},
   "outputs": [],
   "source": []
  }
 ],
 "metadata": {
  "kernelspec": {
   "display_name": ".venv",
   "language": "python",
   "name": "python3"
  },
  "language_info": {
   "codemirror_mode": {
    "name": "ipython",
    "version": 3
   },
   "file_extension": ".py",
   "mimetype": "text/x-python",
   "name": "python",
   "nbconvert_exporter": "python",
   "pygments_lexer": "ipython3",
   "version": "3.11.1"
  }
 },
 "nbformat": 4,
 "nbformat_minor": 2
}
