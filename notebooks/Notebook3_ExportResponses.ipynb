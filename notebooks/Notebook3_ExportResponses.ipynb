{
 "cells": [
  {
   "cell_type": "code",
   "execution_count": 1,
   "metadata": {},
   "outputs": [],
   "source": [
    "import sys\n",
    "import os\n",
    "\n",
    "sys.path.append(\"..\")\n",
    "os.environ[\"DJANGO_SETTINGS_MODULE\"] = \"mysite.settings\"\n",
    "os.environ[\"DJANGO_ALLOW_ASYNC_UNSAFE\"] = \"true\"\n",
    "\n",
    "import django\n",
    "django.setup()"
   ]
  },
  {
   "cell_type": "code",
   "execution_count": 2,
   "metadata": {},
   "outputs": [],
   "source": [
    "from datetime import timezone\n",
    "import dateutil\n",
    "\n",
    "import csv\n",
    "import pandas as pd\n",
    "\n",
    "from django.contrib.auth.models import User\n",
    "from django.utils.timezone import localtime\n",
    "from fileranker.models import Question, Response, Sequence"
   ]
  },
  {
   "cell_type": "code",
   "execution_count": 3,
   "metadata": {},
   "outputs": [],
   "source": [
    "# Open a CSV file for writing\n",
    "with open('output.csv', mode='w', newline='') as file:\n",
    "    writer = csv.writer(file)\n",
    "    # Write the header row\n",
    "    writer.writerow(['sequence', 'position', 'username', 'responded_on', 'value'])\n",
    "\n",
    "    # Fetch all responses from the database, sorted by sequence name, position, and username\n",
    "    responses = Response.objects.all().select_related('question', 'user', 'question__sequence').order_by(\n",
    "        'question__sequence__name', 'question__position', 'user__username'\n",
    "    )\n",
    "    \n",
    "    # Iterate over the responses and write each one to the CSV\n",
    "    for response in responses:\n",
    "        sequence_name = response.question.sequence.name\n",
    "        position = response.question.position\n",
    "        username = response.user.username\n",
    "        responded_on = response.responded_on\n",
    "        value = response.value\n",
    "\n",
    "        writer.writerow([sequence_name, position, username, responded_on, value])"
   ]
  }
 ],
 "metadata": {
  "kernelspec": {
   "display_name": ".venv",
   "language": "python",
   "name": "python3"
  },
  "language_info": {
   "codemirror_mode": {
    "name": "ipython",
    "version": 3
   },
   "file_extension": ".py",
   "mimetype": "text/x-python",
   "name": "python",
   "nbconvert_exporter": "python",
   "pygments_lexer": "ipython3",
   "version": "3.11.1"
  }
 },
 "nbformat": 4,
 "nbformat_minor": 2
}
