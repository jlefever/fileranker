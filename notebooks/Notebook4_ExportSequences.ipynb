{
 "cells": [
  {
   "cell_type": "code",
   "execution_count": 1,
   "metadata": {},
   "outputs": [],
   "source": [
    "import sys\n",
    "import os\n",
    "\n",
    "sys.path.append(\"..\")\n",
    "os.environ[\"DJANGO_SETTINGS_MODULE\"] = \"mysite.settings\"\n",
    "os.environ[\"DJANGO_ALLOW_ASYNC_UNSAFE\"] = \"true\"\n",
    "\n",
    "import django\n",
    "django.setup()"
   ]
  },
  {
   "cell_type": "code",
   "execution_count": 2,
   "metadata": {},
   "outputs": [],
   "source": [
    "from datetime import timezone\n",
    "import dateutil\n",
    "\n",
    "import csv\n",
    "import pandas as pd\n",
    "\n",
    "from django.contrib.auth.models import User\n",
    "from django.utils.timezone import localtime\n",
    "from fileranker.models import Question, Response, Sequence"
   ]
  },
  {
   "cell_type": "code",
   "execution_count": 3,
   "metadata": {},
   "outputs": [],
   "source": [
    "# File path for the output CSV\n",
    "output_file = 'output3.csv'\n",
    "\n",
    "# List of sequence names to include in the output\n",
    "included_sequences = [\n",
    "    \"depends\", \"depends_loc_adjusted\", \"survey\", \n",
    "    \"survey_loc_adjusted\", \"testset2\"\n",
    "]\n",
    "\n",
    "# Fetch all Question instances for the specified sequences, including related Sequence data, ordered by sequence and position\n",
    "questions = Question.objects.select_related('sequence').filter(\n",
    "    sequence__name__in=included_sequences\n",
    ").order_by('sequence__name', 'position')\n",
    "\n",
    "# Define the CSV headers\n",
    "headers = [\n",
    "    'sequence', 'position', 'project_a', 'project_b', \n",
    "    'filename_a', 'filename_b', 'content_a', 'content_b'\n",
    "]\n",
    "\n",
    "# Create and write to the CSV file\n",
    "with open(output_file, mode='w', newline='', encoding='utf-8') as csvfile:\n",
    "    writer = csv.writer(csvfile)\n",
    "    writer.writerow(headers)  # Write the header row\n",
    "\n",
    "    for question in questions:\n",
    "        row = [\n",
    "            question.sequence.name,\n",
    "            question.position,\n",
    "            question.project_a,\n",
    "            question.project_b,\n",
    "            question.filename_a,\n",
    "            question.filename_b,\n",
    "            question.content_a,\n",
    "            question.content_b,\n",
    "        ]\n",
    "        writer.writerow(row)\n"
   ]
  }
 ],
 "metadata": {
  "kernelspec": {
   "display_name": ".venv",
   "language": "python",
   "name": "python3"
  },
  "language_info": {
   "codemirror_mode": {
    "name": "ipython",
    "version": 3
   },
   "file_extension": ".py",
   "mimetype": "text/x-python",
   "name": "python",
   "nbconvert_exporter": "python",
   "pygments_lexer": "ipython3",
   "version": "3.11.1"
  }
 },
 "nbformat": 4,
 "nbformat_minor": 2
}
