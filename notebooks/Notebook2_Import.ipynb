{
 "cells": [
  {
   "cell_type": "code",
   "execution_count": null,
   "metadata": {},
   "outputs": [],
   "source": [
    "import sys\n",
    "import os\n",
    "\n",
    "sys.path.append(\"..\")\n",
    "os.environ[\"DJANGO_SETTINGS_MODULE\"] = \"mysite.settings\"\n",
    "os.environ[\"DJANGO_ALLOW_ASYNC_UNSAFE\"] = \"true\"\n",
    "\n",
    "import django\n",
    "django.setup()"
   ]
  },
  {
   "cell_type": "code",
   "execution_count": null,
   "metadata": {},
   "outputs": [],
   "source": [
    "from datetime import timezone\n",
    "import dateutil\n",
    "\n",
    "import pandas as pd\n",
    "\n",
    "from django.contrib.auth.models import User\n",
    "from fileranker.models import Question, Response, Sequence"
   ]
  },
  {
   "cell_type": "code",
   "execution_count": null,
   "metadata": {},
   "outputs": [],
   "source": [
    "DEFAULT_GOAL = 50"
   ]
  },
  {
   "cell_type": "code",
   "execution_count": null,
   "metadata": {},
   "outputs": [],
   "source": [
    "def import_sequences(sequences_csv: str):\n",
    "    df = pd.read_csv(sequences_csv)\n",
    "\n",
    "    for seq_name, group_df in df.groupby(\"sequence\"):\n",
    "        group_df = group_df.drop(columns=\"sequence\")\n",
    "        group_df = group_df.set_index(\"position\")\n",
    "        \n",
    "        # Check if exists\n",
    "        if Sequence.objects.filter(name=seq_name).exists():\n",
    "            print(f\"Warning: Skipping sequence {seq_name} as it already exists...\")\n",
    "        \n",
    "        # Create sequence with questions\n",
    "        print(f\"Creating sequence '{seq_name}' with {len(group_df)} questions...\")\n",
    "        seq = Sequence.objects.create(name=seq_name, goal=DEFAULT_GOAL)\n",
    "        for position, row in group_df.iterrows():\n",
    "            Question.objects.create(\n",
    "                sequence=seq,\n",
    "                position=position,\n",
    "                project_a=row[\"project_a\"],\n",
    "                project_b=row[\"project_b\"],\n",
    "                filename_a=row[\"filename_a\"],\n",
    "                filename_b=row[\"filename_b\"],\n",
    "                content_a=row[\"content_a\"],\n",
    "                content_b=row[\"content_b\"],\n",
    "            )"
   ]
  },
  {
   "cell_type": "code",
   "execution_count": null,
   "metadata": {},
   "outputs": [],
   "source": [
    "def import_responses(responses_csv: str):\n",
    "    df = pd.read_csv(responses_csv)\n",
    "\n",
    "    for (seq_name, username), group_df in df.groupby([\"sequence\", \"username\"]):\n",
    "        print(f\"Inserting user '{username}' responses for sequence '{seq_name}'...\")\n",
    "        seq = Sequence.objects.get(name=seq_name)\n",
    "        user = User.objects.get(username=username)\n",
    "        response_count = Response.objects.filter(user=user, question__sequence=seq).count()\n",
    "        print(f\"This sequence-user pair already has {response_count} responses\")\n",
    "        print(f\"Inserting {len(group_df)} new responses...\")\n",
    "        print()\n",
    "\n",
    "        group_df = group_df.drop(columns=[\"sequence\", \"username\"])\n",
    "        group_df = group_df.set_index(\"position\")\n",
    "\n",
    "        for position, row in group_df.iterrows():\n",
    "            question = Question.objects.get(sequence=seq, position=position)\n",
    "            dt = dateutil.parser.parse(row[\"responded_on\"]).replace(tzinfo=timezone.utc)\n",
    "            Response.objects.create(user=user, question=question, responded_on=dt, value=row[\"value\"])"
   ]
  },
  {
   "cell_type": "code",
   "execution_count": null,
   "metadata": {},
   "outputs": [],
   "source": [
    "import_sequences(\"../artifacts/my_sequences.csv\")"
   ]
  },
  {
   "cell_type": "code",
   "execution_count": null,
   "metadata": {},
   "outputs": [],
   "source": [
    "import_sequences(\"../artifacts/testset-largefiles-50p.csv\")"
   ]
  },
  {
   "cell_type": "code",
   "execution_count": null,
   "metadata": {},
   "outputs": [],
   "source": [
    "import_sequences(\"../artifacts/testset-largefiles-75p.csv\")"
   ]
  },
  {
   "cell_type": "code",
   "execution_count": null,
   "metadata": {},
   "outputs": [],
   "source": [
    "import_responses(\"../artifacts/my_responses.csv\")"
   ]
  },
  {
   "cell_type": "code",
   "execution_count": null,
   "metadata": {},
   "outputs": [],
   "source": []
  }
 ],
 "metadata": {
  "kernelspec": {
   "display_name": ".venv",
   "language": "python",
   "name": "python3"
  },
  "language_info": {
   "codemirror_mode": {
    "name": "ipython",
    "version": 3
   },
   "file_extension": ".py",
   "mimetype": "text/x-python",
   "name": "python",
   "nbconvert_exporter": "python",
   "pygments_lexer": "ipython3",
   "version": "3.11.1"
  }
 },
 "nbformat": 4,
 "nbformat_minor": 2
}
